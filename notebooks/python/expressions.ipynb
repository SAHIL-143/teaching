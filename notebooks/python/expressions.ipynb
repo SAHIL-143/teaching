{
  "cells": [
    {
      "cell_type": "markdown",
      "id": "loved-gallery",
      "metadata": {
        "id": "loved-gallery"
      },
      "source": [
        "# Expressions"
      ]
    },
    {
      "cell_type": "markdown",
      "id": "false-documentary",
      "metadata": {
        "id": "false-documentary"
      },
      "source": [
        "## Count Seconds in a Decade\n",
        "Write a Python program to calculate the number of seconds in 10 years. Assume that we have 2 leap years in this period. Assign the result into a variable named `seconds_in_10_years`."
      ]
    },
    {
      "cell_type": "code",
      "source": [
        "years = 10\n",
        "days_in_a_year = 365\n",
        "second_in_a_year = 24*60*60\n",
        "days_in_10_years = years * days_in_a_year+ 2\n",
        "seconds_in_10_years = days_in_10_years * second_in_a_year\n",
        "print(second_in_10_year)"
      ],
      "metadata": {
        "id": "r6WXlKeOSBuE",
        "outputId": "ddbab569-09a2-48fe-c3ce-4dce0f2dfd76",
        "colab": {
          "base_uri": "https://localhost:8080/"
        }
      },
      "id": "r6WXlKeOSBuE",
      "execution_count": 3,
      "outputs": [
        {
          "output_type": "stream",
          "name": "stdout",
          "text": [
            "315532800\n"
          ]
        }
      ]
    },
    {
      "cell_type": "code",
      "execution_count": 1,
      "id": "prescribed-faculty",
      "metadata": {
        "id": "prescribed-faculty",
        "outputId": "38e18e18-e882-4d9d-8c03-92c73d9a69b9",
        "colab": {
          "base_uri": "https://localhost:8080/"
        }
      },
      "outputs": [
        {
          "output_type": "stream",
          "name": "stdout",
          "text": [
            "315532800\n"
          ]
        }
      ],
      "source": [
        "second_in_10_year = (10 * 365 + 2)*24 * 60 * 60\n",
        "print(second_in_10_year)"
      ]
    },
    {
      "cell_type": "markdown",
      "id": "sealed-mouth",
      "metadata": {
        "id": "sealed-mouth"
      },
      "source": [
        "## Compute the Area of a Circle\n",
        "Write a Python program that computes the area of a circle based on a given radius. The area of circle can be computed by the following formula: $ a = \\pi r^2 $."
      ]
    },
    {
      "cell_type": "code",
      "execution_count": 6,
      "id": "amber-macedonia",
      "metadata": {
        "id": "amber-macedonia",
        "outputId": "f0322cd6-4f6f-4b07-dc86-e355f6ed2e3e",
        "colab": {
          "base_uri": "https://localhost:8080/"
        }
      },
      "outputs": [
        {
          "output_type": "stream",
          "name": "stdout",
          "text": [
            "12.566268\n",
            "give me the radius  of the circle44\n",
            "the area of the circle with radi 44 is: 6082.073712\n"
          ]
        }
      ],
      "source": [
        "r = 2\n",
        "pi = 3.141567\n",
        "area = pi * r**2\n",
        "print(area)\n",
        "\n",
        "\n",
        "R=int(input(\"give me the radius  of the circle\"))\n",
        "area_2= PI * R**2\n",
        "print(\"the area of the circle with radi\", R, \"is:\",area_2)"
      ]
    },
    {
      "cell_type": "markdown",
      "id": "attached-cleaning",
      "metadata": {
        "id": "attached-cleaning"
      },
      "source": [
        "## Compute Maximum of Numbers\n",
        "Write a Python program that computes the maximum of two inputs:\n",
        "- The first input should be the absolute of -4.\n",
        "- The second input should be the length of the string `\"abc\"`."
      ]
    },
    {
      "cell_type": "code",
      "source": [
        "x = int(input(\"Please enter first number:\"))\n",
        "y = int(input(\"Please enter Second number:\"))\n",
        "print(f\"max({y},{x}) = {max(y,x)}\")\n",
        "\n",
        "'''\n",
        "z = max(x,y)\n",
        "print(\"the Maximum among these number is\", z)\n",
        "\n",
        "'''\n"
      ],
      "metadata": {
        "id": "fykttytuWtJz",
        "outputId": "e5367cd0-43ab-4287-a290-a2caeb545f43",
        "colab": {
          "base_uri": "https://localhost:8080/"
        }
      },
      "id": "fykttytuWtJz",
      "execution_count": 17,
      "outputs": [
        {
          "output_type": "stream",
          "name": "stdout",
          "text": [
            "Please enter first number:12\n",
            "Please enter Second number:21\n",
            "max(21,12) = 21\n"
          ]
        }
      ]
    },
    {
      "cell_type": "markdown",
      "source": [],
      "metadata": {
        "id": "LYh1WD5EWs7W"
      },
      "id": "LYh1WD5EWs7W"
    },
    {
      "cell_type": "code",
      "execution_count": 8,
      "id": "aware-resort",
      "metadata": {
        "id": "aware-resort",
        "outputId": "d9eadb71-e095-45e4-e8bc-7f514874e7ff",
        "colab": {
          "base_uri": "https://localhost:8080/"
        }
      },
      "outputs": [
        {
          "output_type": "stream",
          "name": "stdout",
          "text": [
            "4\n"
          ]
        }
      ],
      "source": [
        "x = abs(-4)\n",
        "y = len(\"abc\")\n",
        "print(max(x,y))"
      ]
    },
    {
      "cell_type": "markdown",
      "id": "cooperative-request",
      "metadata": {
        "id": "cooperative-request"
      },
      "source": [
        "## Compute Euclidean Distance\n",
        "Write a Python program to compute the Euclidean distance between two given points $ (x_1, y_1) $ and $ (x_2, y_2) $, which is $ \\sqrt{(x_1 - x_2)^2 + (y_1 - y_2)^2} $."
      ]
    },
    {
      "cell_type": "code",
      "execution_count": 18,
      "id": "killing-shore",
      "metadata": {
        "id": "killing-shore",
        "outputId": "f7340746-4d34-45f3-8f27-6494207dc9db",
        "colab": {
          "base_uri": "https://localhost:8080/"
        }
      },
      "outputs": [
        {
          "output_type": "stream",
          "name": "stdout",
          "text": [
            "the distance between (3, 6) and (6, 10) is 5.0\n"
          ]
        }
      ],
      "source": [
        "x1, y1 = 3, 6\n",
        "x2, y2 = 6, 10\n",
        "\n",
        "d= ((x1 - x2) ** 2 + (y1 - y2) ** 2) ** .5\n",
        "print(f\"the distance between {x1,y1} and {x2,y2} is {d}\")"
      ]
    },
    {
      "cell_type": "markdown",
      "id": "color-texas",
      "metadata": {
        "id": "color-texas"
      },
      "source": [
        "## Convert Fahrenheit to Celsius\n",
        "Write a Python program to convert fahrenheit to celsius based on the the following formula: $ C = (F - 32) \\times \\frac{5}{9}. $"
      ]
    },
    {
      "cell_type": "code",
      "execution_count": 23,
      "id": "broad-ordinary",
      "metadata": {
        "id": "broad-ordinary",
        "outputId": "db43a5ed-2833-4f00-c3c3-b446da602c59",
        "colab": {
          "base_uri": "https://localhost:8080/"
        }
      },
      "outputs": [
        {
          "output_type": "stream",
          "name": "stdout",
          "text": [
            "Enter the value of Fahrenheit=104\n",
            "the Celsius is 40.0\n"
          ]
        }
      ],
      "source": [
        "x = float(input(\"Enter the value of Fahrenheit=\"))\n",
        "c= ((x - 32) * 5/9)\n",
        "print(f\"the Celsius is {c}\")"
      ]
    },
    {
      "cell_type": "markdown",
      "id": "imported-yeast",
      "metadata": {
        "id": "imported-yeast"
      },
      "source": [
        "## Print User's Name\n",
        "Write a Python program which accepts the user's first and last name and prints them in reverse order with a space between them. For example, if the user enters `John Doe`, the program should print `Doe John`. Note that you can use the `input()` function to take user's inputs."
      ]
    },
    {
      "cell_type": "code",
      "execution_count": 26,
      "id": "inner-arabic",
      "metadata": {
        "id": "inner-arabic",
        "outputId": "0d55f6df-22b8-43e4-b118-7d6c9ccf1249",
        "colab": {
          "base_uri": "https://localhost:8080/"
        }
      },
      "outputs": [
        {
          "output_type": "stream",
          "name": "stdout",
          "text": [
            "Enter First Name:Sahil\n",
            "Enter Last Name:Rathi\n",
            "the first name is Sahil the last name is Rathi\n",
            "the first name is Rathi the last name is Sahil\n",
            "the first name is Rathi the last name is Sahil\n",
            "What is your Full Name?SAHIL RATHI\n",
            "RATHI SAHIL\n"
          ]
        }
      ],
      "source": [
        "a = input(\"Enter First Name:\")\n",
        "b = input(\"Enter Last Name:\")\n",
        "print(f\"the first name is {a} the last name is {b}\")\n",
        "print(f\"the first name is {b} the last name is {a}\")\n",
        "c = b\n",
        "d = a\n",
        "print(f\"the first name is {c} the last name is {d}\")\n",
        "\n",
        "Full_Name = input(\"What is your Full Name?\")\n",
        "first_name, last_name = Full_Name.split()\n",
        "print(last_name, first_name)\n"
      ]
    },
    {
      "cell_type": "code",
      "source": [],
      "metadata": {
        "id": "BthVjgQzf_I2"
      },
      "id": "BthVjgQzf_I2",
      "execution_count": null,
      "outputs": []
    },
    {
      "cell_type": "code",
      "source": [
        "\n"
      ],
      "metadata": {
        "id": "-S1xe7nWlcTW",
        "outputId": "2269247c-edaf-4ee0-9d0e-180a9ec4fb15",
        "colab": {
          "base_uri": "https://localhost:8080/"
        }
      },
      "id": "-S1xe7nWlcTW",
      "execution_count": 29,
      "outputs": [
        {
          "output_type": "execute_result",
          "data": {
            "text/plain": [
              "type"
            ]
          },
          "metadata": {},
          "execution_count": 29
        }
      ]
    },
    {
      "cell_type": "markdown",
      "id": "3d187e0e",
      "metadata": {
        "id": "3d187e0e"
      },
      "source": [
        "## Read a Text File\n",
        "Write a Python program that opens a text file named `my_file.txt` and writes `Hello world!` in that file."
      ]
    },
    {
      "cell_type": "code",
      "execution_count": 28,
      "id": "468bc699",
      "metadata": {
        "id": "468bc699",
        "outputId": "baf84bda-8faa-49f1-e8a8-82385e6eec59",
        "colab": {
          "base_uri": "https://localhost:8080/"
        }
      },
      "outputs": [
        {
          "name": "stdout",
          "output_type": "stream",
          "text": [
            "write something : Sahil Rathi\n"
          ]
        }
      ],
      "source": [
        "my_file = open(\"my_file.txt\", \"w\")\n",
        "my_text = input(\"write something : \")\n",
        "my_file.write(my_text)\n",
        "my_file.write(my_text)\n",
        "my_file.close()"
      ]
    }
  ],
  "metadata": {
    "kernelspec": {
      "display_name": "Python 3",
      "language": "python",
      "name": "python3"
    },
    "language_info": {
      "codemirror_mode": {
        "name": "ipython",
        "version": 3
      },
      "file_extension": ".py",
      "mimetype": "text/x-python",
      "name": "python",
      "nbconvert_exporter": "python",
      "pygments_lexer": "ipython3",
      "version": "3.8.5"
    },
    "colab": {
      "provenance": []
    }
  },
  "nbformat": 4,
  "nbformat_minor": 5
}